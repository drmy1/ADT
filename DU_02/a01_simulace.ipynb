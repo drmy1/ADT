{
 "cells": [
  {
   "cell_type": "markdown",
   "id": "7178985d",
   "metadata": {
    "vscode": {
     "languageId": "ini"
    }
   },
   "source": [
    "\n",
    "# Simulace chování v čase se měnícího systému. \n",
    "Pro jednoduchost vezměme systém, který dobře známe z fyziky.\n",
    "Představme si pohyb automobilu (rovnoměrně zrychlený). Ten můžeme popsat pomocí jeho počáteční rychlosti a zrychlení (pro jednoduchost uvažujeme počáteční rychlost rovnou 0). \n",
    "\n",
    "Naším úkolem je vytvořit simulaci takového pohybu a zobrazit grafy závislosti rychlosti a vzdálenosti od počátku v čase.\n",
    "Navíc budeme chtít mít možnost měnit zrychlení automob\n",
    "ilu v čase (Automobil se rozjíždí a zastavuje). \n",
    "\n",
    "### Vstup\n",
    "Auto na prvním úseku $U_a$ 20 sekund zrychluje $0.5 m/s^2$.\n",
    "Potom v úseku $U_b$ 1 sekundu zpomaluje $5 m/s^2$. \n",
    "a nakonec v úseku $U_c$ 10 sekund zrychluje $2 m/s^2$.\n",
    "\n",
    "### Výstup \n",
    "Výstupem budou dva seznamy obsahující hodnoty rychlosti a vzdálenosti od počátku v čase.\n",
    "Ty budou následně použity pro tvorbu grafů. \n",
    "\n",
    "### Řešení\n",
    "Tuto úlohu můžeme velice snadno vyřešit pomocí cyklu. Zvolíme si časový krok pro simulaci, pro jednoduchost nejprve zvolíme 1 sekundu.\n",
    "Vytvořme si:\n",
    "- seznam zrychlení v čase pro jednotlivé úseky accelerations:List[Tuple[int,float]] úsek je zapsán vždy v Tuple jako ('doba v sekundách', 'zrychlení'). \n",
    "- dvě promenné, které budou sloužit pro účely vizualizace, seznam rychlostí a seznam vzdáleností (do těch budeme ukládat vždy aktuální hodnoty v rámci konkrétního kroku v naší simulaci).\n",
    "\n",
    "Myšlenka simulace je prostá. V každém kroku si vypočítáme:\n",
    "- novou rychlost (k aktuální rychlosti přičteme zrychlení), \n",
    "- novou vzdálenost (k aktuální vzdálenosti přičteme dráhu uraženou za jendotku času).\n",
    "\n",
    "Aktuální hodnoty (okamžitou rychlost a vzdálenost od počátku) si uložíme do seznamů pro pozdější vizualizaci."
   ]
  },
  {
   "cell_type": "code",
   "execution_count": null,
   "id": "7f4f9041",
   "metadata": {},
   "outputs": [],
   "source": [
    "\n",
    "from typing import List, Tuple\n",
    "\n",
    "\n",
    "\n",
    "def simulate(accelerations : List[Tuple[int,int]]): # vstupem budou úseky ze zadání [(20,.5),(1,-5),(10,2)]\n",
    "    distance = 0 # počáteční vzdálenost\n",
    "    speed = 0 # počáteční rychlost\n",
    "\n",
    "    speeds = list()\n",
    "    distances = list()\n",
    "    for duration,accelerate in accelerations: # pro jednotlivé úseky zrychlení ze zadání \n",
    "        for second in range(duration): # pro každou sekundu v daném úseku\n",
    "            # uložíme si aktuální hodnoty pro vizualizaci (okamžitá rychlost (speeds) a vzdálenost od počátku (distances))\n",
    "\n",
    "            # TODO vypočítejte aktuální rychlost, tak, že na aktuální hodnotu rychlosti aplikujete zrychlení\n",
    "            speed += accelerate\n",
    "            # TODO vypočítejte přírůstek vzdálenosti za jednotku času a přidejte jej do již uražené vzdálenosti\n",
    "            distance += speed\n",
    "\n",
    "            # TODO uložíme si aktuální hodnoty pro vizualizaci (okamžitá rychlost a vzdálenost od počátku)\n",
    "            speeds.append(speed)\n",
    "            distances.append(distance)\n",
    "\n",
    "            # vypíšeme si aktuální hodnoty\n",
    "            print(f\"{second=} {speed=} {distance=}\")\n",
    "    \n",
    "    return speeds, distances\n",
    "\n",
    "accelerations = [(20,.5),(1,-5),(10,2)]\n",
    "speeds, distances = simulate(accelerations)"
   ]
  },
  {
   "cell_type": "markdown",
   "id": "497690b6",
   "metadata": {},
   "source": [
    "Pro jednoduchou vizualizaci můžeme použít knihovnu Seaborn. Rozhraní pro vizualizaci už snad nemůže být jednodušší :-)"
   ]
  },
  {
   "cell_type": "code",
   "execution_count": null,
   "id": "6c7cc9b3",
   "metadata": {},
   "outputs": [],
   "source": [
    "import seaborn as sns\n",
    "\n",
    "sns.lineplot(x=range(len(speeds)),y=(speeds)) # x roste od 0 do počtu prvků v seznamu, y je seznam rychlostí"
   ]
  },
  {
   "cell_type": "markdown",
   "id": "51f83aec",
   "metadata": {
    "lines_to_next_cell": 0
   },
   "source": [
    "## Očekávaný výstup: závislost rychlosti na čase\n",
    "![Očekávaný výstup](https://home.zcu.cz/~sidoj/adt/.ipynb_images/2/image_1.png \"Očekávaný výstup\")"
   ]
  },
  {
   "cell_type": "code",
   "execution_count": null,
   "id": "5d34031e",
   "metadata": {
    "lines_to_next_cell": 0
   },
   "outputs": [],
   "source": [
    "sns.lineplot(x=range(len(speeds)),y=(distances)) # x roste od 0 do počtu prvků v seznamu, y je seznam vzdáleností"
   ]
  },
  {
   "cell_type": "markdown",
   "id": "e7e4f278",
   "metadata": {},
   "source": [
    "## Očekávaný výstup: závislost rychlosti a vzdálenosti od počátku v čase\n",
    "![Očekávaný výstup](https://home.zcu.cz/~sidoj/adt/.ipynb_images/2/image_2.png \"Očekávaný výstup\")"
   ]
  },
  {
   "cell_type": "markdown",
   "id": "e1a8193f",
   "metadata": {},
   "source": []
  },
  {
   "cell_type": "markdown",
   "id": "6253f91b",
   "metadata": {},
   "source": [
    "\n",
    "# Poznámky k řešení\n",
    "Musíme si však uvědomit několik věcí, které ovlivňují použitelnost a přesnost naší simulace. \n",
    "Kvůli jednoduchosti implementace jsme použili časový krok = 1 sekunda. Výsledek je tedy pouze velice přibližný. Navíc nejsme schopni simulovat pohyb v čase kratším než je jedna sekunda. \n",
    "\n",
    "Simulaci, kterou jsme právě provedli, také můžeme bez újmy na správnosti nazvat numerickým řešením diferenciální rovnice (dokonce je tato metoda pojmenována a nenese jméno nikoho menšího nežli samotného pana Eulera, tedy Eulerova metoda).\n",
    "\n",
    "Dostali jsme tedy řešení. Není to příliš dobré řešení, ale to jen proto, že jsme použili velký krok. Se zmenšujícím se krokrem se budeme stále více přibližovat k přesnému řešení. Proč? Auto zrychluje v každém čase daného úseku, ne pouze skokově. Čím větší krok použijeme, tím více zanedbábáme malé přírůstky rychlosti v průběhu tohoto krátkého intervalu. Tato metoda trpí ještě několika dalšími problémy, například kumulací chyby v čase. Tím se však nyní nebudeme zabývat.\n",
    "\n",
    " Přesné řešení bychom teoreticky dostali s nekonečně malým krokem, což je samozřejmě nemožné. Navíc bychom narazili opět jinde - na přesnost čísla s plovoucí desetinnou čárkou. \n",
    "\n",
    "Proč bychom tedy měli chtít umět řešit diferenciální rovnici numericky? Proč bychom měli chtít simulovat takové systémy? \n",
    "V tomto případě je důvod spíše výukový. Pohyb automobilu jsme zvolili pro jeho jednoduchou uchopitelnost a názornost. Pro tento konkrétní případ samozřejmě existuje analytické řešení, které se všichni učíme na základních školách a lze snadno odvodit analytickým řešením diferenciální rovnice. $$ s={\\frac {1}{2}}at^{2}$$ Takové řešení je přesné. \n",
    "\n",
    "Musíme si však uvědomit, že tento luxus často nemusíme mít. Systém, který chceme simulovat nemusí jít snadno popsat analyticky. Může být složitý a může obsahovat mnoho proměnných, závislostí a dokonce nedeterminismu (náhodnosti). Programovací jazyk nám však dává způsob jak vyjádřit všechny závislosti i náhodné chování. V takovém případě je simulace jedinou možností jak získat představu o chování systému. Některé systémy mohou být v principu analyticky řešitelné, ale numerické řešení může být mnohem jednodušší a rychlejší na implementaci, zároveň simulací (numerickým řešením) můžeme dostat řešení, které je dostatečně přesné v kontextu, který řešíme (viz experimenty na konci tohoto cvičení).\n",
    "\n"
   ]
  },
  {
   "cell_type": "markdown",
   "id": "8d4aa81b",
   "metadata": {
    "lines_to_next_cell": 0
   },
   "source": [
    "# Úkol 2\n",
    "Upravte program tak, aby používal nastavitelný časový krok. Tím docílime zpřesnění simulace. \n",
    "Také pro účely další vizualizace budeme sledovat další stavovou proměnnou naší simulace - čas."
   ]
  },
  {
   "cell_type": "code",
   "execution_count": null,
   "id": "83fa0105",
   "metadata": {},
   "outputs": [],
   "source": [
    "\n",
    "def simulate_with_step(accelerations,step):\n",
    "    distance = 0\n",
    "    speed = 0\n",
    "    time = 0\n",
    "    \n",
    "    speeds = list()\n",
    "    distances = list()\n",
    "    timestamps = list()\n",
    "    for duration,accelerate in accelerations:\n",
    "        step_time = 0\n",
    "        while step_time <= duration:\n",
    "            # TODO vypočítejte aktuální rychlost, tak, že na aktuální hodnotu rychlosti aplikujete zrychlení\n",
    "            speed += accelerate\n",
    "\n",
    "            # TODO vypočítejte přírůstek vzdálenosti za jednotku času a přidejte jej do již uražené vzdálenosti\n",
    "            distance += speed\n",
    "\n",
    "            # TODO přičtěte k aktuálnímu času simulace časový krok\n",
    "            time += step_time\n",
    "            \n",
    "            # TODO uložte si aktuální hodnoty pro vizualizaci (okamžitá rychlost a vzdálenost od počátku, čas simulace)\n",
    "            speeds.append(speed)    \n",
    "            distances.append(distance)\n",
    "            timestamps.append(time)\n",
    "\n",
    "            # print(f\"{speed=} {distance=}\")\n",
    "            \n",
    "            step_time += step\n",
    "    print(\"distance is \", distance)\n",
    "    return speeds, distances, timestamps\n",
    "\n",
    "accelerations = [(20,.5),(1,-5),(10,2)]\n",
    "\n",
    "## Ověříme, že funkce funguje stejně jako v prvním případě. \n",
    "speeds, distances, timestamps = simulate_with_step(accelerations, 1)\n",
    "print(speeds)\n",
    "print(distances)\n",
    "\n",
    "print(f\"{speeds[-1]=} {distances[-1]=}\") \n",
    "\n",
    "\n",
    "\n"
   ]
  },
  {
   "cell_type": "markdown",
   "id": "b3b91cfb",
   "metadata": {},
   "source": [
    "## Závěrečné experimenty s velikostí kroku v simulaci\n",
    "V následujícím bloku experimentujme s velikostí kroku. A zkusme odpovědět na několik otázek:\n",
    "Co je dostatečně přesná simulace? (Co ovlivňuje rozhodování nad touto otázkou?)\n",
    "Rozhoduje doba výpočtu (cena výpočtu, musíme doručit výsledek včas)?\n",
    "Záleží nám opravdu na šestém desedinném místě v kontextu problému, který řešíme? \n",
    "Umíme zjistit, jak dobré naše řešení je?\n",
    "Jaký bude mít dopad, že řešení nebude dostatečně přesné? \n",
    "Jak veliký krok je v našem konkrétním případě potřeba pro dostatečně přesnou simulaci?\n",
    "\n"
   ]
  },
  {
   "cell_type": "code",
   "execution_count": null,
   "id": "12251383",
   "metadata": {
    "lines_to_next_cell": 2
   },
   "outputs": [],
   "source": [
    "\n",
    "# Pro experimenty s přensostí drobně upravíme úseky zrychlení, aby byly chyby lépe vidět. \n",
    "accelerations = [(20,.5),(5,-1),(10,2)]\n",
    "\n",
    "# výsledky všech experimentů si budeme ukládat pro pozdější vizualizaci\n",
    "distances_all = list()\n",
    "\n",
    "# vyzkoušíme různé kroky simulace a výsledky si uložíme\n",
    "distances_all.append(simulate_with_step(accelerations, 5))\n",
    "distances_all.append(simulate_with_step(accelerations, 4))\n",
    "distances_all.append(simulate_with_step(accelerations, 3))\n",
    "distances_all.append(simulate_with_step(accelerations, 2))\n",
    "distances_all.append(simulate_with_step(accelerations, 1))\n",
    "distances_all.append(simulate_with_step(accelerations, .5))\n",
    "distances_all.append(simulate_with_step(accelerations, .001))\n",
    "distances_all.append(simulate_with_step(accelerations, .0001))"
   ]
  },
  {
   "cell_type": "markdown",
   "id": "ebff842c",
   "metadata": {},
   "source": [
    "### Vizualizace výsledků\n",
    "Následují grafy výsledků experimentů. Všiměme si, že vizualizace opět nemůže být jednodušší. Změnili jsme pouze způsob práce s osou x (kvůli rozdílným krokům).\n",
    "Také tentokrát (a od teď už pokaždé, když budeme tvořit jakýkoli graf :-)) přidáváme popisky os, legendu a titulek. "
   ]
  },
  {
   "cell_type": "code",
   "execution_count": null,
   "id": "e1dcf392",
   "metadata": {},
   "outputs": [],
   "source": [
    "for speeds, distances, timestamps in distances_all:\n",
    "    # tento (a od teď už pokaždé, když budeme tvořit jakýkoli graf) přidáme popisky os, legendu a titulek\n",
    "    plot = sns.lineplot(x=timestamps,y=(distances), label=timestamps[1])\n",
    "    plot.set(title='Vzdálenost od počátku v čase', xlabel='čas', ylabel='vzdálenost') "
   ]
  },
  {
   "cell_type": "markdown",
   "id": "9db96870",
   "metadata": {},
   "source": [
    "![Očekávaný výstup](https://home.zcu.cz/~sidoj/adt/.ipynb_images/2/image_3.png \"Očekávaný výstup\")"
   ]
  },
  {
   "cell_type": "code",
   "execution_count": null,
   "id": "cca85712",
   "metadata": {
    "lines_to_next_cell": 0
   },
   "outputs": [],
   "source": [
    "for speeds, distances, timestamps in distances_all:\n",
    "    plot = sns.lineplot(x=timestamps,y=(speeds), label=timestamps[1])\n",
    "    plot.set(title='Vzdálenost od počátku v čase', xlabel='čas', ylabel='rychlost')"
   ]
  },
  {
   "cell_type": "markdown",
   "id": "2f3914cb",
   "metadata": {},
   "source": [
    "![Očekávaný výstup](https://home.zcu.cz/~sidoj/adt/.ipynb_images/2/image_4.png \"Očekávaný výstup\")"
   ]
  },
  {
   "cell_type": "markdown",
   "id": "154251cf",
   "metadata": {
    "lines_to_next_cell": 3
   },
   "source": [
    "### Líbí se vám myšlenka simulování reálných systémů? \n",
    "Mnohem zajímavější simulace reálných systémů probíhají v předmětu KIV/VSS (Výkonnost a spolehlivost systémů s Richardem Lipkou). \n",
    "Problematika je zároveň probírána mnohem podrobněji.\n",
    "Co když ale automobil bude měnit své zrychlení v závislosti na dopravní situaci (okolí)? \n",
    "Co kdybychom chtěli simulovat pohyb automobilů v reálném městském provozu?\n",
    "\n",
    "### Zaujalo vás numerické řešení diferenciálních rovnic spíše obecně?\n",
    "Mnohem podrobněji je tato problematika probírána v předmětu KMA/NM (Numerické metody)"
   ]
  }
 ],
 "metadata": {
  "jupytext": {
   "cell_metadata_filter": "-all",
   "main_language": "python",
   "notebook_metadata_filter": "-all"
  },
  "kernelspec": {
   "display_name": ".venv",
   "language": "python",
   "name": "python3"
  },
  "language_info": {
   "codemirror_mode": {
    "name": "ipython",
    "version": 3
   },
   "file_extension": ".py",
   "mimetype": "text/x-python",
   "name": "python",
   "nbconvert_exporter": "python",
   "pygments_lexer": "ipython3",
   "version": "3.11.2"
  }
 },
 "nbformat": 4,
 "nbformat_minor": 5
}
