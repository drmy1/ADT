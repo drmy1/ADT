{
 "cells": [
  {
   "cell_type": "markdown",
   "id": "fe12c3fa",
   "metadata": {
    "lines_to_next_cell": 2
   },
   "source": [
    "\n",
    "# Zadání \n",
    "Napište funkci, která načte data ze souboru a odpoví nám na otázku: \"Kolik osob má podprůměrnou váhu\" \n",
    "průměrnou váhu osob, které jsou \n",
    "\n",
    "Když se zamyslíme nad kroky, které vedou k řešení, zjistíme, že potřebujeme:\n",
    "- Získat průměrnou váhu osob \n",
    "- Spočítat osoby, které mají váhu menší než je ta průměrná.\n",
    "\n",
    "Pokud bychom chtěli implementovat novou funkci, která by měla na vstupu jméno souboru a nějaký limit (číslo -- maximální váhu)\n",
    "Brzy zjistíme, že náš program není ideálně dekomponovaný. Soubor otevíráme dvakrát (pro vypočítání průměru a pro filtrování osob)\n",
    "Tuto skutečnost bychom měli ihned jak ji odhalíme napravit a příště ji pokud možno identifikovat dříve. \n",
    "Například příliš dlouhý a složitý název funkce: load_data_and_count_mean, nám může napovědět, že funkce dělá více věcí, než by měla.\n",
    "Konkrétně 2 věci: \n",
    "- načítá data \n",
    "- počítá průměr.\n",
    "\n",
    "Společnou část obou funkcí(načtení dat) tedy můžeme extrahovat do samostatné funkce. Výsledkem bude:\n",
    "- kratší zdrojový kód -> přehlednější\n",
    "- přehlednější -> snadnější identifikace chyb\n",
    "- případnou chybu opravíme pouze na jednom místě. \n",
    "- kód se nám bude tedy lépe udržovat a rozšiřovat\n",
    "- příště, až budeme opět potřebocat načítat osoby ze souboru, můžeme opět použít již existující funkci a ušetřit čas a práci\n",
    "\n",
    "# Připravte tedy funkci load_data(filename), která načte data ze souboru a vrátí seznam osob.\n",
    "Vstup: jméno souboru\n",
    "Výstup: seznam osob"
   ]
  },
  {
   "cell_type": "code",
   "execution_count": 3,
   "id": "44d87c21",
   "metadata": {
    "lines_to_next_cell": 1
   },
   "outputs": [],
   "source": [
    "def load_data(filename: str) -> list:\n",
    "    if not os.path.exists(filename):\n",
    "        return list()\n",
    "    \n",
    "    people = list()\n",
    "    with open(filename, encoding=\"utf8\") as f:\n",
    "        for line_number,line in enumerate(f):\n",
    "            \n",
    "            # ! TODO pridejme podmínku, která přeskočí první řádek v souboru\n",
    "            \n",
    "            line = line.strip() \n",
    "            data = line.split(\",\")\n",
    "            \n",
    "            # v předchozím cvičení jsme si všechny hodnoty uložili do proměnných,\n",
    "            # nyní uložíme celý rozdělený do seznamu lidí\n",
    "            # jmeno, prijmenni, vek, vaha = data\n",
    "            people.append(data)\n",
    "    return people    "
   ]
  },
  {
   "cell_type": "markdown",
   "id": "e845b757",
   "metadata": {},
   "source": [
    "Také upravíme funkci z minulého cvičení tak, aby využívala nově vytvořenou funkci pro načítání dat.\n",
    "Upravujeme tedy definici vstupu. Funkce nyní nepřijímá jméno souboru ale seznam osob.\n",
    "Vstup seznam osob\n",
    "Výstup: průměrná váha osob"
   ]
  },
  {
   "cell_type": "code",
   "execution_count": 62,
   "id": "39bb4efa",
   "metadata": {},
   "outputs": [],
   "source": [
    "def count_avg_weight(people: list) -> float:\n",
    "    weight_sum = 0.0\n",
    "    weight_count = 0\n",
    "    for person in people:\n",
    "        firstname, lastname, weight, height, age = person\n",
    "        # ! TODO na dvou následujících řádcích přičtěme váhu a zvýšeme počet osob\n",
    "        weight_sum += float(weight)\n",
    "        weight_count += 1\n",
    "        count = weight_sum/float(weight_count)\n",
    "    return count"
   ]
  },
  {
   "cell_type": "markdown",
   "id": "305160d7",
   "metadata": {},
   "source": [
    "Nyní zavoláme funkci pro načtení dat a uložíme výsledek do proměnné people.\n",
    "V zápětí spočítáme průměrnou váhu osob a uložíme ji do proměnné avg_weight."
   ]
  },
  {
   "cell_type": "code",
   "execution_count": 64,
   "id": "7917d84f",
   "metadata": {
    "lines_to_next_cell": 1
   },
   "outputs": [
    {
     "ename": "ValueError",
     "evalue": "could not convert string to float: 'weight'",
     "output_type": "error",
     "traceback": [
      "\u001b[1;31m---------------------------------------------------------------------------\u001b[0m",
      "\u001b[1;31mValueError\u001b[0m                                Traceback (most recent call last)",
      "Cell \u001b[1;32mIn[64], line 10\u001b[0m\n\u001b[0;32m      4\u001b[0m \u001b[38;5;66;03m# Následující 2 řádky jsou tu pouze pro testovací účely naším validátorem. Pouze říkají, že\u001b[39;00m\n\u001b[0;32m      5\u001b[0m \u001b[38;5;66;03m# pokud existuje systémová proměnná DATA_FILE, pak se cesta k souboru přepíše její hodnotou.\u001b[39;00m\n\u001b[0;32m      6\u001b[0m \u001b[38;5;66;03m#    if \"DATA_FILE\" in os.environ:\u001b[39;00m\n\u001b[0;32m      7\u001b[0m \u001b[38;5;66;03m#        DATA_FILE = os.environ[\"DATA_FILE\"]\u001b[39;00m\n\u001b[0;32m      9\u001b[0m people \u001b[38;5;241m=\u001b[39m load_data(DATA_FILE)\n\u001b[1;32m---> 10\u001b[0m avg_weight \u001b[38;5;241m=\u001b[39m \u001b[43mcount_avg_weight\u001b[49m\u001b[43m(\u001b[49m\u001b[43mpeople\u001b[49m\u001b[43m)\u001b[49m\n",
      "Cell \u001b[1;32mIn[62], line 7\u001b[0m, in \u001b[0;36mcount_avg_weight\u001b[1;34m(people)\u001b[0m\n\u001b[0;32m      5\u001b[0m firstname, lastname, weight, height, age \u001b[38;5;241m=\u001b[39m person\n\u001b[0;32m      6\u001b[0m \u001b[38;5;66;03m# ! TODO na dvou následujících řádcích přičtěme váhu a zvýšeme počet osob\u001b[39;00m\n\u001b[1;32m----> 7\u001b[0m weight_sum \u001b[38;5;241m+\u001b[39m\u001b[38;5;241m=\u001b[39m \u001b[38;5;28;43mfloat\u001b[39;49m\u001b[43m(\u001b[49m\u001b[43mweight\u001b[49m\u001b[43m)\u001b[49m\n\u001b[0;32m      8\u001b[0m weight_count \u001b[38;5;241m+\u001b[39m\u001b[38;5;241m=\u001b[39m \u001b[38;5;241m1\u001b[39m\n\u001b[0;32m      9\u001b[0m count \u001b[38;5;241m=\u001b[39m weight_sum\u001b[38;5;241m/\u001b[39m\u001b[38;5;28mfloat\u001b[39m(weight_count)\n",
      "\u001b[1;31mValueError\u001b[0m: could not convert string to float: 'weight'"
     ]
    }
   ],
   "source": [
    "    # vstupní soubor\n",
    "    DATA_FILE = \"data.csv\"\n",
    "\n",
    "    # Následující 2 řádky jsou tu pouze pro testovací účely naším validátorem. Pouze říkají, že\n",
    "    # pokud existuje systémová proměnná DATA_FILE, pak se cesta k souboru přepíše její hodnotou.\n",
    "    #    if \"DATA_FILE\" in os.environ:\n",
    "    #        DATA_FILE = os.environ[\"DATA_FILE\"]\n",
    "\n",
    "    people = load_data(DATA_FILE)\n",
    "    avg_weight = count_avg_weight(people)"
   ]
  },
  {
   "cell_type": "code",
   "execution_count": null,
   "id": "2521a9a2",
   "metadata": {},
   "outputs": [],
   "source": [
    "# Nejlepší na tom je to, že pro spočtení osob, které mají podprůměrnou váhu, už máme polovinu práce hotovou (načtení dat).\n",
    "# Vhodnou dekompozicí si tedy můžeme velice usnadnit práci. \n",
    "# Nyní stačí jenom projít všechny osoby a spočítat ty, které mají váhu menší než je průměrná.\n",
    "# Vytvoříme tedy novou funkci filter_people_by_weight\n",
    "# Vstup seznam osob, limitní váha\n",
    "# Výstup: seznam osob, které mají váhu menší než je limitní váha\n",
    "\n",
    "def filter_people_by_weight(people : list, limit : float) -> list:\n",
    "    filtered_people = list()\n",
    "    for person in people:\n",
    "        \n",
    "        # všimněme si, že funkce počítá, že data přichází v konkrétním pořadí. \n",
    "        # pokud bychom dostali soubor v jiném formátu, mohli bychom narazit na problém.\n",
    "        firstname,lastname,weight,height,age = person\n",
    "        weight = float(weight)\n",
    "        if float(weight) < limit: \n",
    "            # ! TODO přidejme osobu do seznamu osob pomocí funkce append\n",
    "            pass\n",
    "    return filtered_people"
   ]
  },
  {
   "cell_type": "markdown",
   "id": "351becc1",
   "metadata": {},
   "source": [
    "Všimněme si, že funkce, kterou jsme napsali, neodpovídá přímo na otázku, kolik osob má podprůměrnou váhu.\n",
    "Ale vrací nám seznam osob, které mají váhu menší než je limitní váha.\n",
    "Pokud bychom napsali funkci, která vrátí pouze počet osob, odřízli bychom se od možnosti provádět další operace nad filtrovanými osobami.\n",
    "Například pokud bychom chtěli vyrobit histogram věku osob, které mají podprůměrnou váhu, museli bychom zasahovat do funkce, upravovat jeji\n",
    "funkcionalitu. Takto napsaná funkce je mnohem univerzálnější a můžeme ji použít v mnoha dalších situacích. Odpověď na původní otázku získáme\n",
    "jednoduchým zjištěním velikosti seznamu.\n",
    "Během svého života všichni narážíme na situace, kdy nám chybí nějaká znalost. Programátoři nejsou jiní a jejich denní rutinou\n",
    "je vyhledávání věcí, které ještě neví nebo už zapomněli.\n",
    "Pokud se taková situace stane, otevřeme oblíbený webový vyhledávač a zeptáme se. \n",
    "Tedy například : 'How to count items in list python'\n",
    "Procvičme si tuto dovednost a doplňme samostatně chybějící řádek."
   ]
  },
  {
   "cell_type": "code",
   "execution_count": null,
   "id": "0b62ee9d",
   "metadata": {
    "lines_to_next_cell": 1
   },
   "outputs": [],
   "source": [
    "light_people = filter_people_by_weight(people,avg_weight)\n",
    "# ! TODO na následujícím řádku vyplňme počet prvků v seznamu\n",
    "n_of_light_people = 0\n",
    "print(f\"Počet osob s podprůměrnou váhou je: {n_of_light_people}\")"
   ]
  },
  {
   "cell_type": "markdown",
   "id": "e7536e15",
   "metadata": {},
   "source": [
    "Závěrem\n",
    "Připomeňme si, že jsme se v tomto cvičení naučili identifikovat znaky špatné dekompozice programu (dlouhá a komplexní pojmenování funkcí)\n",
    "a naučili jsme se, jak je možné takovou situaci řešit. Společné části jsme extrahovali do samostatné funkce (načtení dat)\n",
    "tato data poté slouží pro další zpracování (výpočet průměru, filtrování osob podle váhy)\n",
    "Při návrhu nové funkcionality pro spočtení osob s podprůměrnou váhou jsme využili již existující funkce pro načtení dat a navíc mysleli na to,\n",
    "abychom se nedopustili stejné chyby -- příliš konkrétní úzké funkcionality, která není znovu použitelná. \n",
    "Schválně, zkuste doimplementovat funkci, která nám poví maximální věk osoby s podprůměrnou váhou."
   ]
  },
  {
   "cell_type": "code",
   "execution_count": 2,
   "id": "87bcb778",
   "metadata": {
    "lines_to_next_cell": 2
   },
   "outputs": [
    {
     "ename": "NameError",
     "evalue": "name 'light_people' is not defined",
     "output_type": "error",
     "traceback": [
      "\u001b[1;31m---------------------------------------------------------------------------\u001b[0m",
      "\u001b[1;31mNameError\u001b[0m                                 Traceback (most recent call last)",
      "Cell \u001b[1;32mIn[2], line 13\u001b[0m\n\u001b[0;32m     10\u001b[0m             grandpa \u001b[38;5;241m=\u001b[39m person\n\u001b[0;32m     11\u001b[0m     \u001b[38;5;28;01mreturn\u001b[39;00m grandpa\n\u001b[1;32m---> 13\u001b[0m light_weighted_grandpa \u001b[38;5;241m=\u001b[39m max_age_person(\u001b[43mlight_people\u001b[49m)\n\u001b[0;32m     14\u001b[0m \u001b[38;5;28mprint\u001b[39m(\u001b[38;5;124mf\u001b[39m\u001b[38;5;124m\"\u001b[39m\u001b[38;5;124mNejstarší osoba s podprůměrnou váhou je: \u001b[39m\u001b[38;5;132;01m{\u001b[39;00mlight_weighted_grandpa\u001b[38;5;132;01m}\u001b[39;00m\u001b[38;5;124m\"\u001b[39m)\n\u001b[0;32m     15\u001b[0m \u001b[38;5;66;03m# \u001b[39;00m\n\u001b[0;32m     16\u001b[0m \u001b[38;5;66;03m# \u001b[39;00m\n\u001b[0;32m     17\u001b[0m \u001b[38;5;66;03m# # %% [markdown]\u001b[39;00m\n\u001b[1;32m   (...)\u001b[0m\n\u001b[0;32m     20\u001b[0m \u001b[38;5;66;03m# Výstupem naší funkce je seznam načtených osob.\u001b[39;00m\n\u001b[0;32m     21\u001b[0m \u001b[38;5;66;03m# Funkci zavoláme a podíváme se co nám vrátí.\u001b[39;00m\n",
      "\u001b[1;31mNameError\u001b[0m: name 'light_people' is not defined"
     ]
    }
   ],
   "source": [
    "\n",
    "def max_age_person(people : list) -> tuple:\n",
    "    top_age = 0\n",
    "    grandpa = None\n",
    "    for person in people:\n",
    "        firstname,lastname,weight,height,age = person\n",
    "        age = int(age)\n",
    "        weight = float(weight)\n",
    "        if int(age) > top_age:\n",
    "            top_age = age\n",
    "            grandpa = person\n",
    "    return grandpa\n",
    "\n",
    "light_weighted_grandpa = max_age_person(light_people)\n",
    "print(f\"Nejstarší osoba s podprůměrnou váhou je: {light_weighted_grandpa}\")\n",
    "# \n",
    "# \n",
    "# # %% [markdown]\n",
    "# Nyní můžeme funkci použít pro načtení dat ze souboru osoby.csv\n",
    "# Vstupem naší funkce je název souboru, ze kterého chceme data načíst.\n",
    "# Výstupem naší funkce je seznam načtených osob.\n",
    "# Funkci zavoláme a podíváme se co nám vrátí."
   ]
  },
  {
   "cell_type": "markdown",
   "id": "3f408ffa",
   "metadata": {},
   "source": [
    "Tento program není indeálně dekomponovaný. Soubor, bychom nemuseli načítat dvakrát.\n",
    "Děje se tak jednou v importované funkci, která ze souboru načítá data a podruhé v naší funkci, \n",
    "když filtrujeme osoby podle váhy.\n",
    "Takovou situaci bychom příště měli identifikovat dříve. Například složitý názef funkce: \n",
    "load_data_and_count_mean, nám může napovědět, že funkce dělá více věcí, než by měla.\n",
    "Konkrétně 2 věci: načítá data a počítá průměr.\n"
   ]
  },
  {
   "cell_type": "code",
   "execution_count": null,
   "id": "b02380f4",
   "metadata": {},
   "outputs": [],
   "source": []
  }
 ],
 "metadata": {
  "jupytext": {
   "cell_metadata_filter": "-all",
   "main_language": "python",
   "notebook_metadata_filter": "-all"
  },
  "kernelspec": {
   "display_name": ".venv",
   "language": "python",
   "name": "python3"
  },
  "language_info": {
   "codemirror_mode": {
    "name": "ipython",
    "version": 3
   },
   "file_extension": ".py",
   "mimetype": "text/x-python",
   "name": "python",
   "nbconvert_exporter": "python",
   "pygments_lexer": "ipython3",
   "version": "3.10.11"
  }
 },
 "nbformat": 4,
 "nbformat_minor": 5
}
