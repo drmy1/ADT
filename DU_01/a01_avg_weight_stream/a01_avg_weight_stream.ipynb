{
 "cells": [
  {
   "cell_type": "markdown",
   "id": "97812cf4",
   "metadata": {},
   "source": [
    "# Nejprve test prostředí\n",
    "Následující buňka je pouze testovací a má ověřit správné nastavení vašeho prostředí. Pokud se vám správně podaří spustit, měli byste vidět výstup \"Hello world, now is: <časový údaj>\"."
   ]
  },
  {
   "cell_type": "code",
   "execution_count": null,
   "id": "c6fb922d",
   "metadata": {},
   "outputs": [],
   "source": [
    "import datetime \n",
    "\n",
    "print(f\"Hello world, now is:{datetime.datetime.now()}\") "
   ]
  },
  {
   "cell_type": "markdown",
   "id": "60409b27",
   "metadata": {},
   "source": [
    "\n",
    "# Úloha 1 načtení a transformace dat\n",
    "\n",
    "Pro datovou analýzu je jedním z prvních kroků načtení datového vzorku. \n",
    "Pro hlubší pochopení způsobu, jakým počítačové programy data zpracovávají nyní \n",
    "naprogramujeme jednoduchou konzolovou aplikaci pro analýzu dat."
   ]
  },
  {
   "cell_type": "markdown",
   "id": "3f53d697",
   "metadata": {},
   "source": [
    "## Funkce \n",
    "Funkce v progrmaovacích jazycích má vstupy a výstupy.\n",
    "Princip je velice podobný jako u matematických funkcí (např. $f(x) = x^2$).\n",
    "tato funkce přijímá x(číslo) a vrací jeho druhou mocninu (číslo)\n",
    "$$ f(číslo) -> číslo$$\n",
    "\n",
    "## Co je vstup a co výstup? \n",
    "My máme podobné zadání, jen s tím rozdílem, že do naší funkce vstupuje cesta k soubor a vrací průměrnou váhu všech osob v souboru.\n",
    "Na první pohled je jasné, že jsou nutné předpoklady i pro naši funkci. \n",
    "- Například musí vstupovat soubor, který existuje. \n",
    "- Soubor musí obsahovat záznamy o osobách v konkrétním tvaru. \n",
    "- Musí být přítomna informace o váze každé osoby.\n",
    "- atd. \n",
    "\n",
    "Základní mechanismus je však stejný, funkce přijímá vstup a vrací výstup, jaký typ vstupu přijímá a jaký výstup vrací je již na nás.\n",
    "Většina programovacích jazyků umožňuje informaci o vstupu a výstupu přímo zapsat do zdrojového kódu.\n",
    "Tím sobě i ostatním programátorům usnadníme práci a zároveň zvýšíme přehlednost kódu.\n",
    "V pythonu se paramety a jejich typy zapisují do závorky za názvem funkce.\n",
    "To co funkce vrací popisujeme za šipku ->\n",
    "Tedy například:\n",
    "\n",
    "```python\n",
    "# sčítáme dvě celá čísla a vracíme celé číslo\n",
    "def add_two_numbers(a : int, b:int) -> int\n",
    "# načítáme data ze souboru, jehož umístění je pžedáno jako řetězec a vracíme seznam\n",
    "# vhodným pojmenováním navíc pomáháme zlepšit čitelnost kódu\n",
    "def load_data(filepath : str) -> list\n",
    "```\n",
    "\n",
    "Nejprve si tedy ujasníme tyto základní informace a můžeme začít programovat. \n",
    "Samotný zdrojový kód funkce popisuje, jakým způsobem se vstupní data převedou na výstupní data.\n",
    "\n",
    "## Jak uděláme to co máme? \n",
    "Funkce otevře soubor uložený na disku a spočítá průměrnou váhu všech vzorků (osob). \n",
    "Protože se jedná o jednoduchou informaci, můžeme chtěnou hodnotu spočítat průběžně. \n",
    "\n",
    "Průměr můžeme spočítat pomocí vzorce:\n",
    "$$ \\bar{x} = \\frac{\\sum_{i=1}^{n} x_i}{n} $$\n",
    "Nebo chcete-li:\n",
    "$$ \\bar{x} = \\frac{x_1+x_2+ x_3 + ... +x_n}{n}$$\n",
    "\n",
    "Postupně přečteme jednu osobu za druhou a povedeme si průběžný součet vah a počtu osob.\n",
    "Jedinné dvě proměnné, které budeme potřebovat tedy jsou:\n",
    "- proměnná, do které budeme ukládat součet vah (postupně nasčítávaný čitatel)\n",
    "- proměnná, do které budeme ukládat počet vzorků (postupně nasčítávaný jmenovatel)\n",
    "\n",
    "### Poznámky:\n",
    "enumerate v cyklu nám umožní procházet řádky v souboru a zároveň nám vrátí číslo řádku\n",
    "\n",
    "\n",
    "\n",
    "\n"
   ]
  },
  {
   "cell_type": "code",
   "execution_count": null,
   "id": "3ece1330",
   "metadata": {
    "lines_to_next_cell": 1
   },
   "outputs": [],
   "source": [
    "def load_data_and_count_mean(filename : str) -> float:\n",
    "    \n",
    "    # otevřeme soubor (mohli bychom ověřovat, že soubor existuje, ale pro jednoduchost to nebudeme dělat)\n",
    "    with open(filename) as f:\n",
    "        \n",
    "        # inicializujeme proměnné, do kterých budeme ukládat mezivýsledek\n",
    "        weight_sum = 0    # čitatel\n",
    "        weight_count = 0  # jmenovatel\n",
    "        \n",
    "        # projdeme všechny řádky souboru, které představují jednotlivé osoby\n",
    "        for line_number,line in enumerate(f):\n",
    "            if line_number == 0:  # první řádek (počítáno od nuly) neobsahuje osobu, ale hlavičku, \n",
    "                continue        # proto ho přeskočíme\n",
    "            \n",
    "            # každý řádek má na konci speciální znak \\n (konec řádku), toho se zbavíme pomocí funkce strip\n",
    "            # funkce vrací nový řetězec, který je bez znaku \\n\n",
    "            line = line.strip() \n",
    "            \n",
    "            # vyčištěný řádek rozdělíme pomocí čárky, funkce nám vrátí seznam hodnot (jméno, prijmenni, vek, vaha)\n",
    "            data = line.split(\",\")\n",
    "            \n",
    "            # všechny hodnoty si uložíme do proměnných, všechno jsou to řetězce (string)\n",
    "            firstname,lastname,weight,height,age = data\n",
    "            \n",
    "            # ! TODO následující řádku upravte tak, aby se do proměnné weight_sum přičetla váha osoby\n",
    "            # pozn. protože chceme spočítat průměr, musíme řetězec převést na desetinné číslo abychom byli schopni numericky sčítat\n",
    "            weight_sum +=0 \n",
    "            weight_count += 1\n",
    "\n",
    "    # ! TODO následující řádky upravte tak, aby funkce vracela průměr\n",
    "    average = 0\n",
    "    return average"
   ]
  },
  {
   "cell_type": "markdown",
   "id": "c5551fc6",
   "metadata": {},
   "source": [
    "Funkci jsme definovali -- naprogramovali.\n",
    "\n",
    "Nyní ji můžeme zavolat a výsledek vypsat.\n",
    "\n",
    "Jiným jazykem řečeno vstup (soubor osoby.csv) předáme funkci a \n",
    "výstup (průměrná váha) uložíme do proměnné avg_weight.\n",
    "Ten následně vypíšeme pomocí funkce print."
   ]
  },
  {
   "cell_type": "code",
   "execution_count": null,
   "id": "576a1e53",
   "metadata": {},
   "outputs": [],
   "source": [
    "# vstupní soubor\n",
    "DATA_FILE  = \"osoby.csv\" \n",
    "\n",
    "# Následující 3 řádky jsou tu pouze pro testovací účely naším validátorem. Pouze říkají, že \n",
    "# pokud existuje systémová proměnná DATA_FILE, pak se cesta k souboru přepíše její hodnotou.\n",
    "import os                                                                                 \n",
    "if \"DATA_FILE\" in os.environ:                     \n",
    "    DATA_FILE = os.environ[\"DATA_FILE\"]           \n",
    "\n",
    "\n",
    "avg_weight = load_data_and_count_mean(DATA_FILE)\n",
    "print(f\"Průměrná váha osob v souboru je :{avg_weight}\")"
   ]
  },
  {
   "cell_type": "markdown",
   "id": "014fdb12",
   "metadata": {
    "lines_to_next_cell": 0
   },
   "source": [
    "# Závěr\n",
    "Funkcionalita, kterou jsme naprogramovali je velice jednoduše replikovatelná\n",
    "v jakémkoli tabulkovém procesoru Excel, Google Tabulky.\n",
    "Rozdíl je v tom, že programovací jazyk nám dává mnohem větší volnost.\n",
    "Nemusíme se omezovat pouze na vstup ve formě taubulkových data (v našem případě csv soubor)\n",
    "můžeme zpracovávat data z databází, nebo například procházet celé adresářové \n",
    "struktury složek a souborů uložené na disku a zpracovávat data uložená v nich. \n",
    "\n",
    "Obecně vstupem programu může být cokoli, např. obrázek, zvuk, video, pdf nebo třeba i otázka.\n",
    "Stejnou svobodu máme ve výstupu programu. Obecněji se můžeme bavit o vnějším projevu programu, \n",
    "který jsme napsali. Komplexní program může například obsluhovat internetové stránky."
   ]
  },
  {
   "cell_type": "code",
   "execution_count": null,
   "id": "23da4869",
   "metadata": {},
   "outputs": [],
   "source": []
  }
 ],
 "metadata": {
  "jupytext": {
   "cell_metadata_filter": "-all",
   "main_language": "python",
   "notebook_metadata_filter": "-all"
  },
  "kernelspec": {
   "display_name": "Python 3",
   "language": "python",
   "name": "python3"
  },
  "language_info": {
   "name": "python",
   "version": "3.11.2"
  }
 },
 "nbformat": 4,
 "nbformat_minor": 5
}
