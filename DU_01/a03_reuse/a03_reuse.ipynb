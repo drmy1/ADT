{
 "cells": [
  {
   "cell_type": "markdown",
   "id": "4b0fc2d2",
   "metadata": {
    "lines_to_next_cell": 0
   },
   "source": [
    "\n",
    "# Zadání znovupoužitelnost Reusability\n",
    "\n",
    "Pro to, abychom dnes spočítali sinus nějakého úhlu nemusíme příliš přemýšlet jak je zařízeno, \n",
    "že nám kalkulačka vrací správný výsledek. V programátorské terminologii prostě zavoláme sin(x)\n",
    "\n",
    "načítání dat už znovu programovat nemusíme, máme připravenou funkci v minulém cvičení\n",
    "v pythonu můžeme importovat jiné soubory s python zdrojovým kódem pomocí klíčového slova import"
   ]
  },
  {
   "cell_type": "code",
   "execution_count": 1,
   "id": "3ee64b7b",
   "metadata": {},
   "outputs": [
    {
     "name": "stdout",
     "output_type": "stream",
     "text": [
      "[]\n"
     ]
    }
   ],
   "source": [
    "from a02_load_filter_in_memory import load_data\n",
    "\n",
    "DATA_FILE = \"osoby.csv\"\n",
    "\n",
    "# Následující 3 řádky jsou tu pouze pro testovací účely naším validátorem. Pouze říkají, že \n",
    "# pokud existuje systémová proměnná DATA_FILE, pak se cesta k souboru přepíše její hodnotou.\n",
    "import os                                                                                 \n",
    "if \"DATA_FILE\" in os.environ:                     \n",
    "    DATA_FILE = os.environ[\"DATA_FILE\"]         \n",
    "\n",
    "people = load_data(DATA_FILE)\n",
    "print(people[:4])"
   ]
  },
  {
   "cell_type": "markdown",
   "id": "687966c6",
   "metadata": {},
   "source": [
    "Pokud dodržíme předpoklad, že všechny 3 soubory jsou ve stejném adresáři,\n",
    "- ten, který právě editujeme (a03_reuse), \n",
    "- z minula (a02_load_filter_in_memory),\n",
    "- data (osoby.csv),\n",
    "tak se nám soubor opravdu načte za použití funkce, kterou jsme implementovali v minulém cvičení.\n",
    "Také ale věnujme pozornost tomu, že obdržíme výpis o počtu osob s podprůměrnou vahou a nášeho známého Hubeného Staříka.\n",
    "Stane se tak proto, že python, při zavádění nového 'modulu' musí vykonat všechny příkazy, které jsou v něm obsaženy.\n",
    "Pokud tedy kromě definice nových funkcí obsahuje i jejich volání nebo jiný funkční kód, prostě je zavolá.\n",
    "S tímto problémem se umíme vypořádat, prozatím budeme však tento fakt mít na mysli, avšak nebudeme se jím zabývat.\n",
    "\n",
    "## Zadání \n",
    "Z načteného seznamu osob vyfiltrujte pouze ty, které mají obezitu jakéhokoli stupně.\n",
    "\n",
    "podváha < 18,5        \t\n",
    "normální váha\t18,5–24,9\t\n",
    "nadváha\t25–29,9\tmírně   \n",
    "obezita 1. stupně\t30–34,9\t\n",
    "obezita 2. stupně\t35–39,9\t\n",
    "obezita 3. stupně\t≥ 40"
   ]
  },
  {
   "cell_type": "code",
   "execution_count": null,
   "id": "9ce0d3da",
   "metadata": {
    "lines_to_next_cell": 0
   },
   "outputs": [],
   "source": [
    "from typing import Callable, Tuple\n",
    "\n",
    "def is_obese(person: tuple) -> bool:\n",
    "    firstname,lastname,weight,height,age = person\n",
    "    bmi = 0\n",
    "    print(f\"bmi: {bmi}\")\n",
    "    #bmi = weight / height**2 #<--- tato řádka nám způsobí problémy\n",
    "    \n",
    "print(f\"je 1. obezni? {is_obese(people[1])}\")\n",
    "print(f\"je 2. obezni? {is_obese(people[2])}\")\n",
    "\n",
    "\n",
    "def filter(people : tuple, filter_function:Callable[[Tuple[str]],bool]) -> list:\n",
    "    filtered_people  = list()\n",
    "    for person in people:\n",
    "        if filter_function(person):\n",
    "            filtered_people.append(person)\n",
    "    return filtered_people"
   ]
  },
  {
   "cell_type": "code",
   "execution_count": null,
   "id": "477a729c",
   "metadata": {
    "lines_to_next_cell": 0
   },
   "outputs": [],
   "source": [
    "\n",
    "filtered_people = filter(people, is_obese)\n",
    "print(filtered_people[:4])"
   ]
  },
  {
   "cell_type": "code",
   "execution_count": null,
   "id": "15e6ec1b",
   "metadata": {},
   "outputs": [],
   "source": []
  }
 ],
 "metadata": {
  "jupytext": {
   "cell_metadata_filter": "-all",
   "main_language": "python",
   "notebook_metadata_filter": "-all"
  },
  "kernelspec": {
   "display_name": ".venv",
   "language": "python",
   "name": "python3"
  },
  "language_info": {
   "codemirror_mode": {
    "name": "ipython",
    "version": 3
   },
   "file_extension": ".py",
   "mimetype": "text/x-python",
   "name": "python",
   "nbconvert_exporter": "python",
   "pygments_lexer": "ipython3",
   "version": "3.10.11"
  }
 },
 "nbformat": 4,
 "nbformat_minor": 5
}
